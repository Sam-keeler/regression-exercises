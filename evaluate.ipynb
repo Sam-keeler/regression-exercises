{
 "cells": [
  {
   "cell_type": "code",
   "execution_count": 44,
   "metadata": {},
   "outputs": [],
   "source": [
    "import matplotlib.pyplot as plt\n",
    "import numpy as np\n",
    "import pandas as pd\n",
    "from scipy import stats\n",
    "from datetime import date\n",
    "import seaborn as sns\n",
    "from pydataset import data\n",
    "from env import host, user, password\n",
    "import os\n",
    "import statsmodels.api as sm\n",
    "from statsmodels.formula.api import ols"
   ]
  },
  {
   "cell_type": "code",
   "execution_count": 2,
   "metadata": {},
   "outputs": [],
   "source": [
    "# Load the tips dataset from either pydataset or seaborn.\n",
    "\n",
    "tips = data('tips')"
   ]
  },
  {
   "cell_type": "code",
   "execution_count": 3,
   "metadata": {},
   "outputs": [
    {
     "data": {
      "text/html": [
       "<div>\n",
       "<style scoped>\n",
       "    .dataframe tbody tr th:only-of-type {\n",
       "        vertical-align: middle;\n",
       "    }\n",
       "\n",
       "    .dataframe tbody tr th {\n",
       "        vertical-align: top;\n",
       "    }\n",
       "\n",
       "    .dataframe thead th {\n",
       "        text-align: right;\n",
       "    }\n",
       "</style>\n",
       "<table border=\"1\" class=\"dataframe\">\n",
       "  <thead>\n",
       "    <tr style=\"text-align: right;\">\n",
       "      <th></th>\n",
       "      <th>total_bill</th>\n",
       "      <th>tip</th>\n",
       "      <th>sex</th>\n",
       "      <th>smoker</th>\n",
       "      <th>day</th>\n",
       "      <th>time</th>\n",
       "      <th>size</th>\n",
       "    </tr>\n",
       "  </thead>\n",
       "  <tbody>\n",
       "    <tr>\n",
       "      <th>1</th>\n",
       "      <td>16.99</td>\n",
       "      <td>1.01</td>\n",
       "      <td>Female</td>\n",
       "      <td>No</td>\n",
       "      <td>Sun</td>\n",
       "      <td>Dinner</td>\n",
       "      <td>2</td>\n",
       "    </tr>\n",
       "    <tr>\n",
       "      <th>2</th>\n",
       "      <td>10.34</td>\n",
       "      <td>1.66</td>\n",
       "      <td>Male</td>\n",
       "      <td>No</td>\n",
       "      <td>Sun</td>\n",
       "      <td>Dinner</td>\n",
       "      <td>3</td>\n",
       "    </tr>\n",
       "    <tr>\n",
       "      <th>3</th>\n",
       "      <td>21.01</td>\n",
       "      <td>3.50</td>\n",
       "      <td>Male</td>\n",
       "      <td>No</td>\n",
       "      <td>Sun</td>\n",
       "      <td>Dinner</td>\n",
       "      <td>3</td>\n",
       "    </tr>\n",
       "    <tr>\n",
       "      <th>4</th>\n",
       "      <td>23.68</td>\n",
       "      <td>3.31</td>\n",
       "      <td>Male</td>\n",
       "      <td>No</td>\n",
       "      <td>Sun</td>\n",
       "      <td>Dinner</td>\n",
       "      <td>2</td>\n",
       "    </tr>\n",
       "    <tr>\n",
       "      <th>5</th>\n",
       "      <td>24.59</td>\n",
       "      <td>3.61</td>\n",
       "      <td>Female</td>\n",
       "      <td>No</td>\n",
       "      <td>Sun</td>\n",
       "      <td>Dinner</td>\n",
       "      <td>4</td>\n",
       "    </tr>\n",
       "    <tr>\n",
       "      <th>...</th>\n",
       "      <td>...</td>\n",
       "      <td>...</td>\n",
       "      <td>...</td>\n",
       "      <td>...</td>\n",
       "      <td>...</td>\n",
       "      <td>...</td>\n",
       "      <td>...</td>\n",
       "    </tr>\n",
       "    <tr>\n",
       "      <th>240</th>\n",
       "      <td>29.03</td>\n",
       "      <td>5.92</td>\n",
       "      <td>Male</td>\n",
       "      <td>No</td>\n",
       "      <td>Sat</td>\n",
       "      <td>Dinner</td>\n",
       "      <td>3</td>\n",
       "    </tr>\n",
       "    <tr>\n",
       "      <th>241</th>\n",
       "      <td>27.18</td>\n",
       "      <td>2.00</td>\n",
       "      <td>Female</td>\n",
       "      <td>Yes</td>\n",
       "      <td>Sat</td>\n",
       "      <td>Dinner</td>\n",
       "      <td>2</td>\n",
       "    </tr>\n",
       "    <tr>\n",
       "      <th>242</th>\n",
       "      <td>22.67</td>\n",
       "      <td>2.00</td>\n",
       "      <td>Male</td>\n",
       "      <td>Yes</td>\n",
       "      <td>Sat</td>\n",
       "      <td>Dinner</td>\n",
       "      <td>2</td>\n",
       "    </tr>\n",
       "    <tr>\n",
       "      <th>243</th>\n",
       "      <td>17.82</td>\n",
       "      <td>1.75</td>\n",
       "      <td>Male</td>\n",
       "      <td>No</td>\n",
       "      <td>Sat</td>\n",
       "      <td>Dinner</td>\n",
       "      <td>2</td>\n",
       "    </tr>\n",
       "    <tr>\n",
       "      <th>244</th>\n",
       "      <td>18.78</td>\n",
       "      <td>3.00</td>\n",
       "      <td>Female</td>\n",
       "      <td>No</td>\n",
       "      <td>Thur</td>\n",
       "      <td>Dinner</td>\n",
       "      <td>2</td>\n",
       "    </tr>\n",
       "  </tbody>\n",
       "</table>\n",
       "<p>244 rows × 7 columns</p>\n",
       "</div>"
      ],
      "text/plain": [
       "     total_bill   tip     sex smoker   day    time  size\n",
       "1         16.99  1.01  Female     No   Sun  Dinner     2\n",
       "2         10.34  1.66    Male     No   Sun  Dinner     3\n",
       "3         21.01  3.50    Male     No   Sun  Dinner     3\n",
       "4         23.68  3.31    Male     No   Sun  Dinner     2\n",
       "5         24.59  3.61  Female     No   Sun  Dinner     4\n",
       "..          ...   ...     ...    ...   ...     ...   ...\n",
       "240       29.03  5.92    Male     No   Sat  Dinner     3\n",
       "241       27.18  2.00  Female    Yes   Sat  Dinner     2\n",
       "242       22.67  2.00    Male    Yes   Sat  Dinner     2\n",
       "243       17.82  1.75    Male     No   Sat  Dinner     2\n",
       "244       18.78  3.00  Female     No  Thur  Dinner     2\n",
       "\n",
       "[244 rows x 7 columns]"
      ]
     },
     "execution_count": 3,
     "metadata": {},
     "output_type": "execute_result"
    }
   ],
   "source": [
    "tips"
   ]
  },
  {
   "cell_type": "code",
   "execution_count": 4,
   "metadata": {},
   "outputs": [],
   "source": [
    "# Fit a linear regression model (ordinary least squares) and compute yhat, predictions of tip using total_bill.\n",
    "\n",
    "from statsmodels.formula.api import ols\n",
    "\n",
    "model = ols('tip ~ total_bill', data=tips).fit()\n",
    "predictions = model.predict(tips.total_bill)"
   ]
  },
  {
   "cell_type": "code",
   "execution_count": 39,
   "metadata": {},
   "outputs": [
    {
     "name": "stderr",
     "output_type": "stream",
     "text": [
      "/usr/local/anaconda3/lib/python3.8/site-packages/seaborn/_decorators.py:36: FutureWarning: Pass the following variables as keyword args: x, y. From version 0.12, the only valid positional argument will be `data`, and passing other arguments without an explicit keyword will result in an error or misinterpretation.\n",
      "  warnings.warn(\n"
     ]
    },
    {
     "data": {
      "text/plain": [
       "<AxesSubplot:xlabel='total_bill'>"
      ]
     },
     "execution_count": 39,
     "metadata": {},
     "output_type": "execute_result"
    },
    {
     "data": {
      "image/png": "[encoded data removed]",
      "text/plain": [
       "<Figure size 432x288 with 1 Axes>"
      ]
     },
     "metadata": {
      "needs_background": "light"
     },
     "output_type": "display_data"
    }
   ],
   "source": [
    "# Plot the residuals for the linear regression model that you made.\n",
    "\n",
    "residuals = tips.tip - predictions\n",
    "sns.scatterplot(tips.total_bill, residuals)"
   ]
  },
  {
   "cell_type": "code",
   "execution_count": 6,
   "metadata": {},
   "outputs": [],
   "source": [
    "tips['yhat'] = predictions"
   ]
  },
  {
   "cell_type": "code",
   "execution_count": 7,
   "metadata": {},
   "outputs": [],
   "source": [
    "tips['residual'] = tips['tip'] - predictions"
   ]
  },
  {
   "cell_type": "code",
   "execution_count": 8,
   "metadata": {},
   "outputs": [],
   "source": [
    "tips['baseline'] = tips['tip'].mean()"
   ]
  },
  {
   "cell_type": "code",
   "execution_count": 9,
   "metadata": {},
   "outputs": [],
   "source": [
    "tips['residual_baseline'] = tips['baseline'] - tips['tip']"
   ]
  },
  {
   "cell_type": "code",
   "execution_count": 10,
   "metadata": {},
   "outputs": [],
   "source": [
    "tips['residual_baseline^2'] = tips.residual_baseline ** 2"
   ]
  },
  {
   "cell_type": "code",
   "execution_count": 11,
   "metadata": {},
   "outputs": [],
   "source": [
    "tips['residual^2'] = tips.residual ** 2"
   ]
  },
  {
   "cell_type": "code",
   "execution_count": 12,
   "metadata": {},
   "outputs": [
    {
     "data": {
      "text/html": [
       "<div>\n",
       "<style scoped>\n",
       "    .dataframe tbody tr th:only-of-type {\n",
       "        vertical-align: middle;\n",
       "    }\n",
       "\n",
       "    .dataframe tbody tr th {\n",
       "        vertical-align: top;\n",
       "    }\n",
       "\n",
       "    .dataframe thead th {\n",
       "        text-align: right;\n",
       "    }\n",
       "</style>\n",
       "<table border=\"1\" class=\"dataframe\">\n",
       "  <thead>\n",
       "    <tr style=\"text-align: right;\">\n",
       "      <th></th>\n",
       "      <th>total_bill</th>\n",
       "      <th>tip</th>\n",
       "      <th>sex</th>\n",
       "      <th>smoker</th>\n",
       "      <th>day</th>\n",
       "      <th>time</th>\n",
       "      <th>size</th>\n",
       "      <th>yhat</th>\n",
       "      <th>residual</th>\n",
       "      <th>baseline</th>\n",
       "      <th>residual_baseline</th>\n",
       "      <th>residual_baseline^2</th>\n",
       "      <th>residual^2</th>\n",
       "    </tr>\n",
       "  </thead>\n",
       "  <tbody>\n",
       "    <tr>\n",
       "      <th>1</th>\n",
       "      <td>16.99</td>\n",
       "      <td>1.01</td>\n",
       "      <td>Female</td>\n",
       "      <td>No</td>\n",
       "      <td>Sun</td>\n",
       "      <td>Dinner</td>\n",
       "      <td>2</td>\n",
       "      <td>2.704636</td>\n",
       "      <td>-1.694636</td>\n",
       "      <td>2.998279</td>\n",
       "      <td>1.988279</td>\n",
       "      <td>3.953252</td>\n",
       "      <td>2.871792</td>\n",
       "    </tr>\n",
       "    <tr>\n",
       "      <th>2</th>\n",
       "      <td>10.34</td>\n",
       "      <td>1.66</td>\n",
       "      <td>Male</td>\n",
       "      <td>No</td>\n",
       "      <td>Sun</td>\n",
       "      <td>Dinner</td>\n",
       "      <td>3</td>\n",
       "      <td>2.006223</td>\n",
       "      <td>-0.346223</td>\n",
       "      <td>2.998279</td>\n",
       "      <td>1.338279</td>\n",
       "      <td>1.790990</td>\n",
       "      <td>0.119870</td>\n",
       "    </tr>\n",
       "    <tr>\n",
       "      <th>3</th>\n",
       "      <td>21.01</td>\n",
       "      <td>3.50</td>\n",
       "      <td>Male</td>\n",
       "      <td>No</td>\n",
       "      <td>Sun</td>\n",
       "      <td>Dinner</td>\n",
       "      <td>3</td>\n",
       "      <td>3.126835</td>\n",
       "      <td>0.373165</td>\n",
       "      <td>2.998279</td>\n",
       "      <td>-0.501721</td>\n",
       "      <td>0.251724</td>\n",
       "      <td>0.139252</td>\n",
       "    </tr>\n",
       "    <tr>\n",
       "      <th>4</th>\n",
       "      <td>23.68</td>\n",
       "      <td>3.31</td>\n",
       "      <td>Male</td>\n",
       "      <td>No</td>\n",
       "      <td>Sun</td>\n",
       "      <td>Dinner</td>\n",
       "      <td>2</td>\n",
       "      <td>3.407250</td>\n",
       "      <td>-0.097250</td>\n",
       "      <td>2.998279</td>\n",
       "      <td>-0.311721</td>\n",
       "      <td>0.097170</td>\n",
       "      <td>0.009458</td>\n",
       "    </tr>\n",
       "    <tr>\n",
       "      <th>5</th>\n",
       "      <td>24.59</td>\n",
       "      <td>3.61</td>\n",
       "      <td>Female</td>\n",
       "      <td>No</td>\n",
       "      <td>Sun</td>\n",
       "      <td>Dinner</td>\n",
       "      <td>4</td>\n",
       "      <td>3.502822</td>\n",
       "      <td>0.107178</td>\n",
       "      <td>2.998279</td>\n",
       "      <td>-0.611721</td>\n",
       "      <td>0.374203</td>\n",
       "      <td>0.011487</td>\n",
       "    </tr>\n",
       "    <tr>\n",
       "      <th>...</th>\n",
       "      <td>...</td>\n",
       "      <td>...</td>\n",
       "      <td>...</td>\n",
       "      <td>...</td>\n",
       "      <td>...</td>\n",
       "      <td>...</td>\n",
       "      <td>...</td>\n",
       "      <td>...</td>\n",
       "      <td>...</td>\n",
       "      <td>...</td>\n",
       "      <td>...</td>\n",
       "      <td>...</td>\n",
       "      <td>...</td>\n",
       "    </tr>\n",
       "    <tr>\n",
       "      <th>240</th>\n",
       "      <td>29.03</td>\n",
       "      <td>5.92</td>\n",
       "      <td>Male</td>\n",
       "      <td>No</td>\n",
       "      <td>Sat</td>\n",
       "      <td>Dinner</td>\n",
       "      <td>3</td>\n",
       "      <td>3.969131</td>\n",
       "      <td>1.950869</td>\n",
       "      <td>2.998279</td>\n",
       "      <td>-2.921721</td>\n",
       "      <td>8.536455</td>\n",
       "      <td>3.805888</td>\n",
       "    </tr>\n",
       "    <tr>\n",
       "      <th>241</th>\n",
       "      <td>27.18</td>\n",
       "      <td>2.00</td>\n",
       "      <td>Female</td>\n",
       "      <td>Yes</td>\n",
       "      <td>Sat</td>\n",
       "      <td>Dinner</td>\n",
       "      <td>2</td>\n",
       "      <td>3.774836</td>\n",
       "      <td>-1.774836</td>\n",
       "      <td>2.998279</td>\n",
       "      <td>0.998279</td>\n",
       "      <td>0.996560</td>\n",
       "      <td>3.150043</td>\n",
       "    </tr>\n",
       "    <tr>\n",
       "      <th>242</th>\n",
       "      <td>22.67</td>\n",
       "      <td>2.00</td>\n",
       "      <td>Male</td>\n",
       "      <td>Yes</td>\n",
       "      <td>Sat</td>\n",
       "      <td>Dinner</td>\n",
       "      <td>2</td>\n",
       "      <td>3.301175</td>\n",
       "      <td>-1.301175</td>\n",
       "      <td>2.998279</td>\n",
       "      <td>0.998279</td>\n",
       "      <td>0.996560</td>\n",
       "      <td>1.693057</td>\n",
       "    </tr>\n",
       "    <tr>\n",
       "      <th>243</th>\n",
       "      <td>17.82</td>\n",
       "      <td>1.75</td>\n",
       "      <td>Male</td>\n",
       "      <td>No</td>\n",
       "      <td>Sat</td>\n",
       "      <td>Dinner</td>\n",
       "      <td>2</td>\n",
       "      <td>2.791807</td>\n",
       "      <td>-1.041807</td>\n",
       "      <td>2.998279</td>\n",
       "      <td>1.248279</td>\n",
       "      <td>1.558200</td>\n",
       "      <td>1.085361</td>\n",
       "    </tr>\n",
       "    <tr>\n",
       "      <th>244</th>\n",
       "      <td>18.78</td>\n",
       "      <td>3.00</td>\n",
       "      <td>Female</td>\n",
       "      <td>No</td>\n",
       "      <td>Thur</td>\n",
       "      <td>Dinner</td>\n",
       "      <td>2</td>\n",
       "      <td>2.892630</td>\n",
       "      <td>0.107370</td>\n",
       "      <td>2.998279</td>\n",
       "      <td>-0.001721</td>\n",
       "      <td>0.000003</td>\n",
       "      <td>0.011528</td>\n",
       "    </tr>\n",
       "  </tbody>\n",
       "</table>\n",
       "<p>244 rows × 13 columns</p>\n",
       "</div>"
      ],
      "text/plain": [
       "     total_bill   tip     sex smoker   day    time  size      yhat  residual  \\\n",
       "1         16.99  1.01  Female     No   Sun  Dinner     2  2.704636 -1.694636   \n",
       "2         10.34  1.66    Male     No   Sun  Dinner     3  2.006223 -0.346223   \n",
       "3         21.01  3.50    Male     No   Sun  Dinner     3  3.126835  0.373165   \n",
       "4         23.68  3.31    Male     No   Sun  Dinner     2  3.407250 -0.097250   \n",
       "5         24.59  3.61  Female     No   Sun  Dinner     4  3.502822  0.107178   \n",
       "..          ...   ...     ...    ...   ...     ...   ...       ...       ...   \n",
       "240       29.03  5.92    Male     No   Sat  Dinner     3  3.969131  1.950869   \n",
       "241       27.18  2.00  Female    Yes   Sat  Dinner     2  3.774836 -1.774836   \n",
       "242       22.67  2.00    Male    Yes   Sat  Dinner     2  3.301175 -1.301175   \n",
       "243       17.82  1.75    Male     No   Sat  Dinner     2  2.791807 -1.041807   \n",
       "244       18.78  3.00  Female     No  Thur  Dinner     2  2.892630  0.107370   \n",
       "\n",
       "     baseline  residual_baseline  residual_baseline^2  residual^2  \n",
       "1    2.998279           1.988279             3.953252    2.871792  \n",
       "2    2.998279           1.338279             1.790990    0.119870  \n",
       "3    2.998279          -0.501721             0.251724    0.139252  \n",
       "4    2.998279          -0.311721             0.097170    0.009458  \n",
       "5    2.998279          -0.611721             0.374203    0.011487  \n",
       "..        ...                ...                  ...         ...  \n",
       "240  2.998279          -2.921721             8.536455    3.805888  \n",
       "241  2.998279           0.998279             0.996560    3.150043  \n",
       "242  2.998279           0.998279             0.996560    1.693057  \n",
       "243  2.998279           1.248279             1.558200    1.085361  \n",
       "244  2.998279          -0.001721             0.000003    0.011528  \n",
       "\n",
       "[244 rows x 13 columns]"
      ]
     },
     "execution_count": 12,
     "metadata": {},
     "output_type": "execute_result"
    }
   ],
   "source": [
    "tips"
   ]
  },
  {
   "cell_type": "code",
   "execution_count": 13,
   "metadata": {},
   "outputs": [
    {
     "name": "stdout",
     "output_type": "stream",
     "text": [
      "SSE =  252.78874385077597\n"
     ]
    }
   ],
   "source": [
    "# Calculate the sum of squared errors, explained sum of squares, total sum of squares, mean squared error, \n",
    "# and root mean squared error for your model.\n",
    "\n",
    "SSE = sum(tips['residual^2'])\n",
    "SSE_baseline = sum(tips['residual_baseline^2'])\n",
    "\n",
    "print(\"SSE = \", SSE)"
   ]
  },
  {
   "cell_type": "code",
   "execution_count": 14,
   "metadata": {},
   "outputs": [
    {
     "name": "stdout",
     "output_type": "stream",
     "text": [
      "MSE =  1.0360194420113769\n"
     ]
    }
   ],
   "source": [
    "MSE = SSE/len(tips)\n",
    "MSE_baseline = SSE_baseline/len(tips)\n",
    "\n",
    "print(\"MSE = \", MSE)"
   ]
  },
  {
   "cell_type": "code",
   "execution_count": 15,
   "metadata": {},
   "outputs": [
    {
     "name": "stdout",
     "output_type": "stream",
     "text": [
      "RMSE =  1.0178504025697377\n"
     ]
    }
   ],
   "source": [
    "from math import sqrt\n",
    "RMSE = sqrt(MSE)\n",
    "RMSE_baseline = sqrt(MSE_baseline)\n",
    "\n",
    "print(\"RMSE = \", RMSE)"
   ]
  },
  {
   "cell_type": "code",
   "execution_count": 16,
   "metadata": {},
   "outputs": [],
   "source": [
    "df_eval = pd.DataFrame(np.array(['SSE','MSE','RMSE']), columns=['metric'])\n",
    "\n",
    "df_eval['model_error'] = np.array([SSE, MSE, RMSE])"
   ]
  },
  {
   "cell_type": "code",
   "execution_count": 17,
   "metadata": {},
   "outputs": [
    {
     "name": "stdout",
     "output_type": "stream",
     "text": [
      "ESS =  212.4237331984042\n",
      "SSE =  252.78874385077597\n",
      "TSS =  465.21247704918017\n"
     ]
    }
   ],
   "source": [
    "ESS = sum((tips.yhat - tips.tip.mean())**2)\n",
    "SSE = df_eval[df_eval.metric=='SSE']['model_error']\n",
    "TSS = ESS + SSE\n",
    "print(\"ESS = \", ESS)\n",
    "print(\"SSE = \", SSE[0])\n",
    "print(\"TSS = \", TSS[0])"
   ]
  },
  {
   "cell_type": "code",
   "execution_count": 20,
   "metadata": {},
   "outputs": [
    {
     "name": "stdout",
     "output_type": "stream",
     "text": [
      "SSE - baseline =  465.21247704918085\n",
      "MSE baseline =  1.9066085124966428\n",
      "RMSE baseline =  1.3807999538298958\n",
      "ESS_baseline =  0.0\n",
      "SSE_baseline =  465.21247704918085\n",
      "TSS_baseline =  465.21247704918085\n"
     ]
    }
   ],
   "source": [
    "# Calculate the sum of squared errors, mean squared error, and root mean squared error for the baseline model \n",
    "\n",
    "print(\"SSE - baseline = \", SSE_baseline)\n",
    "print(\"MSE baseline = \", MSE_baseline)\n",
    "print(\"RMSE baseline = \", RMSE_baseline)\n",
    "df_baseline_eval = pd.DataFrame(np.array(['SSE_baseline','MSE_baseline','RMSE_baseline']), columns=['metric'])\n",
    "df_baseline_eval['model_error'] = np.array([SSE_baseline, MSE_baseline, RMSE_baseline])\n",
    "ESS_baseline = sum((tips.baseline - tips.tip.mean())**2)\n",
    "SSE_baseline = df_baseline_eval[df_baseline_eval.metric=='SSE_baseline']['model_error']\n",
    "TSS_baseline = ESS_baseline + SSE_baseline\n",
    "print(\"ESS_baseline = \", ESS_baseline)\n",
    "print(\"SSE_baseline = \", SSE_baseline[0])\n",
    "print(\"TSS_baseline = \", TSS_baseline[0])"
   ]
  },
  {
   "cell_type": "code",
   "execution_count": 27,
   "metadata": {},
   "outputs": [
    {
     "name": "stdout",
     "output_type": "stream",
     "text": [
      "SSE = 252.79\n",
      "SSE_baseline = 465.21\n",
      "The model has outperformed the baseline\n"
     ]
    }
   ],
   "source": [
    "# Write python code that compares the sum of squared errors for your model against the sum of squared errors \n",
    "# for the baseline model and outputs whether or not your model performs better than the baseline model.\n",
    "\n",
    "SSE = sum(tips['residual^2'])\n",
    "SSE_baseline = sum(tips['residual_baseline^2'])\n",
    "print(\"SSE =\", round(SSE, 2))\n",
    "print(\"SSE_baseline =\", round(SSE_baseline, 2))\n",
    "if SSE > SSE_baseline:\n",
    "    print(\"The baseline has performed better than the model\")\n",
    "else:\n",
    "    print(\"The model has outperformed the baseline\")"
   ]
  },
  {
   "cell_type": "code",
   "execution_count": 31,
   "metadata": {},
   "outputs": [
    {
     "name": "stdout",
     "output_type": "stream",
     "text": [
      "Explained Variance =  0.457\n"
     ]
    }
   ],
   "source": [
    "# What is the amount of variance explained in your model?\n",
    "\n",
    "from sklearn.metrics import explained_variance_score\n",
    "evs = explained_variance_score(tips.tip, tips.yhat)\n",
    "print('Explained Variance = ', round(evs,3))"
   ]
  },
  {
   "cell_type": "code",
   "execution_count": 33,
   "metadata": {},
   "outputs": [
    {
     "name": "stdout",
     "output_type": "stream",
     "text": [
      "Explained Variance for base =  0.0\n"
     ]
    }
   ],
   "source": [
    "# Is your model significantly better than the baseline model?\n",
    "# Variance for the baseline is going to be 0, as it is the mean of the tips received.\n",
    "\n",
    "evs_base = explained_variance_score(tips.tip, tips.baseline)\n",
    "print('Explained Variance for base = ', round(evs_base,3))"
   ]
  },
  {
   "cell_type": "code",
   "execution_count": 42,
   "metadata": {},
   "outputs": [
    {
     "ename": "NameError",
     "evalue": "name 'ols_model' is not defined",
     "output_type": "error",
     "traceback": [
      "\u001b[0;31m---------------------------------------------------------------------------\u001b[0m",
      "\u001b[0;31mNameError\u001b[0m                                 Traceback (most recent call last)",
      "\u001b[0;32m<ipython-input-42-4fb06a9374e5>\u001b[0m in \u001b[0;36m<module>\u001b[0;34m\u001b[0m\n\u001b[1;32m      1\u001b[0m \u001b[0mr2\u001b[0m \u001b[0;34m=\u001b[0m \u001b[0mESS\u001b[0m\u001b[0;34m/\u001b[0m\u001b[0mTSS\u001b[0m\u001b[0;34m\u001b[0m\u001b[0;34m\u001b[0m\u001b[0m\n\u001b[0;32m----> 2\u001b[0;31m \u001b[0mr2\u001b[0m \u001b[0;34m=\u001b[0m \u001b[0mols_model\u001b[0m\u001b[0;34m.\u001b[0m\u001b[0mrsquared\u001b[0m\u001b[0;34m\u001b[0m\u001b[0;34m\u001b[0m\u001b[0m\n\u001b[0m",
      "\u001b[0;31mNameError\u001b[0m: name 'ols_model' is not defined"
     ]
    }
   ],
   "source": [
    "r2 = ESS/TSS\n",
    "r2 = ols_model.rsquared"
   ]
  },
  {
   "cell_type": "code",
   "execution_count": null,
   "metadata": {},
   "outputs": [],
   "source": []
  }
 ],
 "metadata": {
  "kernelspec": {
   "display_name": "Python 3",
   "language": "python",
   "name": "python3"
  },
  "language_info": {
   "codemirror_mode": {
    "name": "ipython",
    "version": 3
   },
   "file_extension": ".py",
   "mimetype": "text/x-python",
   "name": "python",
   "nbconvert_exporter": "python",
   "pygments_lexer": "ipython3",
   "version": "3.8.5"
  }
 },
 "nbformat": 4,
 "nbformat_minor": 4
}
