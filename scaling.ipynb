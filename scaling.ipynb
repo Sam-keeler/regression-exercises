{
 "cells": [
  {
   "cell_type": "code",
   "execution_count": 1,
   "metadata": {},
   "outputs": [],
   "source": [
    "import matplotlib.pyplot as plt\n",
    "import numpy as np\n",
    "import pandas as pd\n",
    "from scipy import stats\n",
    "from datetime import date\n",
    "import seaborn as sns\n",
    "from pydataset import data\n",
    "from env import host, user, password\n",
    "from wrangle import wrangle_telco\n",
    "import sklearn.preprocessing\n",
    "from sklearn.model_selection import train_test_split"
   ]
  },
  {
   "cell_type": "code",
   "execution_count": 2,
   "metadata": {},
   "outputs": [],
   "source": [
    "telco = wrangle_telco()"
   ]
  },
  {
   "cell_type": "code",
   "execution_count": 3,
   "metadata": {},
   "outputs": [
    {
     "data": {
      "text/html": [
       "<div>\n",
       "<style scoped>\n",
       "    .dataframe tbody tr th:only-of-type {\n",
       "        vertical-align: middle;\n",
       "    }\n",
       "\n",
       "    .dataframe tbody tr th {\n",
       "        vertical-align: top;\n",
       "    }\n",
       "\n",
       "    .dataframe thead th {\n",
       "        text-align: right;\n",
       "    }\n",
       "</style>\n",
       "<table border=\"1\" class=\"dataframe\">\n",
       "  <thead>\n",
       "    <tr style=\"text-align: right;\">\n",
       "      <th></th>\n",
       "      <th>customer_id</th>\n",
       "      <th>monthly_charges</th>\n",
       "      <th>tenure</th>\n",
       "      <th>total_charges</th>\n",
       "    </tr>\n",
       "  </thead>\n",
       "  <tbody>\n",
       "    <tr>\n",
       "      <th>0</th>\n",
       "      <td>0002-ORFBO</td>\n",
       "      <td>65.60</td>\n",
       "      <td>9</td>\n",
       "      <td>593.30</td>\n",
       "    </tr>\n",
       "    <tr>\n",
       "      <th>1</th>\n",
       "      <td>0020-JDNXP</td>\n",
       "      <td>61.25</td>\n",
       "      <td>34</td>\n",
       "      <td>1993.20</td>\n",
       "    </tr>\n",
       "    <tr>\n",
       "      <th>2</th>\n",
       "      <td>0022-TCJCI</td>\n",
       "      <td>62.70</td>\n",
       "      <td>45</td>\n",
       "      <td>2791.50</td>\n",
       "    </tr>\n",
       "    <tr>\n",
       "      <th>3</th>\n",
       "      <td>0023-UYUPN</td>\n",
       "      <td>25.20</td>\n",
       "      <td>50</td>\n",
       "      <td>1306.30</td>\n",
       "    </tr>\n",
       "    <tr>\n",
       "      <th>4</th>\n",
       "      <td>0036-IHMOT</td>\n",
       "      <td>103.70</td>\n",
       "      <td>55</td>\n",
       "      <td>5656.75</td>\n",
       "    </tr>\n",
       "    <tr>\n",
       "      <th>...</th>\n",
       "      <td>...</td>\n",
       "      <td>...</td>\n",
       "      <td>...</td>\n",
       "      <td>...</td>\n",
       "    </tr>\n",
       "    <tr>\n",
       "      <th>1468</th>\n",
       "      <td>9968-FFVVH</td>\n",
       "      <td>68.80</td>\n",
       "      <td>63</td>\n",
       "      <td>4111.35</td>\n",
       "    </tr>\n",
       "    <tr>\n",
       "      <th>1469</th>\n",
       "      <td>9972-VAFJJ</td>\n",
       "      <td>94.00</td>\n",
       "      <td>53</td>\n",
       "      <td>4871.45</td>\n",
       "    </tr>\n",
       "    <tr>\n",
       "      <th>1470</th>\n",
       "      <td>9978-HYCIN</td>\n",
       "      <td>84.95</td>\n",
       "      <td>47</td>\n",
       "      <td>4018.05</td>\n",
       "    </tr>\n",
       "    <tr>\n",
       "      <th>1471</th>\n",
       "      <td>9979-RGMZT</td>\n",
       "      <td>94.05</td>\n",
       "      <td>7</td>\n",
       "      <td>633.45</td>\n",
       "    </tr>\n",
       "    <tr>\n",
       "      <th>1472</th>\n",
       "      <td>9987-LUTYD</td>\n",
       "      <td>55.15</td>\n",
       "      <td>13</td>\n",
       "      <td>742.90</td>\n",
       "    </tr>\n",
       "  </tbody>\n",
       "</table>\n",
       "<p>1473 rows × 4 columns</p>\n",
       "</div>"
      ],
      "text/plain": [
       "     customer_id  monthly_charges  tenure  total_charges\n",
       "0     0002-ORFBO            65.60       9         593.30\n",
       "1     0020-JDNXP            61.25      34        1993.20\n",
       "2     0022-TCJCI            62.70      45        2791.50\n",
       "3     0023-UYUPN            25.20      50        1306.30\n",
       "4     0036-IHMOT           103.70      55        5656.75\n",
       "...          ...              ...     ...            ...\n",
       "1468  9968-FFVVH            68.80      63        4111.35\n",
       "1469  9972-VAFJJ            94.00      53        4871.45\n",
       "1470  9978-HYCIN            84.95      47        4018.05\n",
       "1471  9979-RGMZT            94.05       7         633.45\n",
       "1472  9987-LUTYD            55.15      13         742.90\n",
       "\n",
       "[1473 rows x 4 columns]"
      ]
     },
     "execution_count": 3,
     "metadata": {},
     "output_type": "execute_result"
    }
   ],
   "source": [
    "telco"
   ]
  },
  {
   "cell_type": "code",
   "execution_count": 4,
   "metadata": {},
   "outputs": [
    {
     "data": {
      "text/plain": [
       "MinMaxScaler()"
      ]
     },
     "execution_count": 4,
     "metadata": {},
     "output_type": "execute_result"
    }
   ],
   "source": [
    "# Apply the scalers we talked about in this lesson to your data and visualize the results\n",
    "\n",
    "telco.drop(columns = ['customer_id'], inplace = True)\n",
    "train, test = train_test_split(telco, test_size=.2, random_state=123)\n",
    "train, validate = train_test_split(train, test_size=.3, random_state=123)\n",
    "scaler_minmax = sklearn.preprocessing.MinMaxScaler()\n",
    "scaler_minmax.fit(train)"
   ]
  },
  {
   "cell_type": "code",
   "execution_count": 5,
   "metadata": {},
   "outputs": [],
   "source": [
    "train_minmax = scaler_minmax.transform(train)\n",
    "train_minmax = pd.DataFrame(train_minmax)\n",
    "train_minmax.rename(columns = {0: 'monthly_charges', 1: 'tenure', 2: 'total_charges'}, inplace = True)"
   ]
  },
  {
   "cell_type": "code",
   "execution_count": 6,
   "metadata": {},
   "outputs": [
    {
     "data": {
      "text/plain": [
       "Text(0.5, 1.0, 'Min Max Scaled')"
      ]
     },
     "execution_count": 6,
     "metadata": {},
     "output_type": "execute_result"
    },
    {
     "data": {
      "image/png": "[encoded data removed]",
      "text/plain": [
       "<Figure size 936x432 with 2 Axes>"
      ]
     },
     "metadata": {
      "needs_background": "light"
     },
     "output_type": "display_data"
    }
   ],
   "source": [
    "plt.figure(figsize=(13, 6))\n",
    "plt.subplot(121)\n",
    "plt.hist(train.monthly_charges, bins=25, ec='black')\n",
    "plt.title('Original')\n",
    "plt.subplot(122)\n",
    "plt.hist(train_minmax.monthly_charges, bins=25, ec='black')\n",
    "plt.title('Min Max Scaled')"
   ]
  },
  {
   "cell_type": "code",
   "execution_count": 7,
   "metadata": {},
   "outputs": [],
   "source": [
    "scaler_stan = sklearn.preprocessing.StandardScaler()"
   ]
  },
  {
   "cell_type": "code",
   "execution_count": 8,
   "metadata": {},
   "outputs": [],
   "source": [
    "scaler_stan.fit(train)\n",
    "train_stan = scaler_stan.transform(train)\n",
    "train_stan = pd.DataFrame(train_stan)\n",
    "train_stan.rename(columns = {0: 'monthly_charges', 1: 'tenure', 2: 'total_charges'}, inplace = True)"
   ]
  },
  {
   "cell_type": "code",
   "execution_count": 9,
   "metadata": {},
   "outputs": [
    {
     "data": {
      "text/plain": [
       "Text(0.5, 1.0, 'Standard Scaled')"
      ]
     },
     "execution_count": 9,
     "metadata": {},
     "output_type": "execute_result"
    },
    {
     "data": {
      "image/png": "[encoded data removed]",
      "text/plain": [
       "<Figure size 936x432 with 2 Axes>"
      ]
     },
     "metadata": {
      "needs_background": "light"
     },
     "output_type": "display_data"
    }
   ],
   "source": [
    "plt.figure(figsize=(13, 6))\n",
    "plt.subplot(121)\n",
    "plt.hist(train.monthly_charges, bins=25, ec='black')\n",
    "plt.title('Original')\n",
    "plt.subplot(122)\n",
    "plt.hist(train_stan.monthly_charges, bins=25, ec='black')\n",
    "plt.title('Standard Scaled')"
   ]
  },
  {
   "cell_type": "code",
   "execution_count": 10,
   "metadata": {},
   "outputs": [],
   "source": [
    "scaler_rob = sklearn.preprocessing.RobustScaler()"
   ]
  },
  {
   "cell_type": "code",
   "execution_count": 11,
   "metadata": {},
   "outputs": [],
   "source": [
    "scaler_rob.fit(train)\n",
    "train_rob = scaler_rob.transform(train)\n",
    "train_rob = pd.DataFrame(train_rob)\n",
    "train_rob.rename(columns = {0: 'monthly_charges', 1: 'tenure', 2: 'total_charges'}, inplace = True)"
   ]
  },
  {
   "cell_type": "code",
   "execution_count": 12,
   "metadata": {},
   "outputs": [
    {
     "data": {
      "text/plain": [
       "Text(0.5, 1.0, 'Robust Scaled')"
      ]
     },
     "execution_count": 12,
     "metadata": {},
     "output_type": "execute_result"
    },
    {
     "data": {
      "image/png": "[encoded data removed]",
      "text/plain": [
       "<Figure size 936x432 with 2 Axes>"
      ]
     },
     "metadata": {
      "needs_background": "light"
     },
     "output_type": "display_data"
    }
   ],
   "source": [
    "plt.figure(figsize=(13, 6))\n",
    "plt.subplot(121)\n",
    "plt.hist(train.monthly_charges, bins=25, ec='black')\n",
    "plt.title('Original')\n",
    "plt.subplot(122)\n",
    "plt.hist(train_rob.monthly_charges, bins=25, ec='black')\n",
    "plt.title('Robust Scaled')"
   ]
  },
  {
   "cell_type": "code",
   "execution_count": 19,
   "metadata": {},
   "outputs": [],
   "source": [
    "# Apply the .inverse_transform method to your scaled data.\n",
    "# Is the resulting dataset the exact same as the original data?\n",
    "# Yes, except tenure has been made into a float\n",
    "\n",
    "inverse = scaler_rob.inverse_transform(train_rob)\n",
    "inverse = pd.DataFrame(inverse)\n",
    "inverse.rename(columns = {0: 'monthly_charges', 1: 'tenure', 2: 'total_charges'}, inplace = True)"
   ]
  },
  {
   "cell_type": "code",
   "execution_count": 20,
   "metadata": {},
   "outputs": [
    {
     "data": {
      "text/plain": [
       "Text(0.5, 1.0, 'Scaled and Inversed')"
      ]
     },
     "execution_count": 20,
     "metadata": {},
     "output_type": "execute_result"
    },
    {
     "data": {
      "image/png": "[encoded data removed]",
      "text/plain": [
       "<Figure size 936x432 with 2 Axes>"
      ]
     },
     "metadata": {
      "needs_background": "light"
     },
     "output_type": "display_data"
    }
   ],
   "source": [
    "plt.figure(figsize=(13, 6))\n",
    "plt.subplot(121)\n",
    "plt.hist(train.monthly_charges, bins=25, ec='black')\n",
    "plt.title('Original')\n",
    "plt.subplot(122)\n",
    "plt.hist(inverse.monthly_charges, bins=25, ec='black')\n",
    "plt.title('Scaled and Inversed')"
   ]
  },
  {
   "cell_type": "code",
   "execution_count": 22,
   "metadata": {},
   "outputs": [
    {
     "data": {
      "text/html": [
       "<div>\n",
       "<style scoped>\n",
       "    .dataframe tbody tr th:only-of-type {\n",
       "        vertical-align: middle;\n",
       "    }\n",
       "\n",
       "    .dataframe tbody tr th {\n",
       "        vertical-align: top;\n",
       "    }\n",
       "\n",
       "    .dataframe thead th {\n",
       "        text-align: right;\n",
       "    }\n",
       "</style>\n",
       "<table border=\"1\" class=\"dataframe\">\n",
       "  <thead>\n",
       "    <tr style=\"text-align: right;\">\n",
       "      <th></th>\n",
       "      <th>monthly_charges</th>\n",
       "      <th>tenure</th>\n",
       "      <th>total_charges</th>\n",
       "    </tr>\n",
       "  </thead>\n",
       "  <tbody>\n",
       "    <tr>\n",
       "      <th>0</th>\n",
       "      <td>100.45</td>\n",
       "      <td>49.0</td>\n",
       "      <td>4941.80</td>\n",
       "    </tr>\n",
       "    <tr>\n",
       "      <th>1</th>\n",
       "      <td>70.95</td>\n",
       "      <td>48.0</td>\n",
       "      <td>3629.20</td>\n",
       "    </tr>\n",
       "    <tr>\n",
       "      <th>2</th>\n",
       "      <td>74.00</td>\n",
       "      <td>52.0</td>\n",
       "      <td>3877.65</td>\n",
       "    </tr>\n",
       "    <tr>\n",
       "      <th>3</th>\n",
       "      <td>95.00</td>\n",
       "      <td>38.0</td>\n",
       "      <td>3591.25</td>\n",
       "    </tr>\n",
       "    <tr>\n",
       "      <th>4</th>\n",
       "      <td>106.15</td>\n",
       "      <td>59.0</td>\n",
       "      <td>6256.20</td>\n",
       "    </tr>\n",
       "    <tr>\n",
       "      <th>...</th>\n",
       "      <td>...</td>\n",
       "      <td>...</td>\n",
       "      <td>...</td>\n",
       "    </tr>\n",
       "    <tr>\n",
       "      <th>819</th>\n",
       "      <td>86.90</td>\n",
       "      <td>57.0</td>\n",
       "      <td>4939.25</td>\n",
       "    </tr>\n",
       "    <tr>\n",
       "      <th>820</th>\n",
       "      <td>20.95</td>\n",
       "      <td>25.0</td>\n",
       "      <td>495.15</td>\n",
       "    </tr>\n",
       "    <tr>\n",
       "      <th>821</th>\n",
       "      <td>96.75</td>\n",
       "      <td>53.0</td>\n",
       "      <td>5206.55</td>\n",
       "    </tr>\n",
       "    <tr>\n",
       "      <th>822</th>\n",
       "      <td>50.80</td>\n",
       "      <td>9.0</td>\n",
       "      <td>463.60</td>\n",
       "    </tr>\n",
       "    <tr>\n",
       "      <th>823</th>\n",
       "      <td>23.30</td>\n",
       "      <td>72.0</td>\n",
       "      <td>1623.15</td>\n",
       "    </tr>\n",
       "  </tbody>\n",
       "</table>\n",
       "<p>824 rows × 3 columns</p>\n",
       "</div>"
      ],
      "text/plain": [
       "     monthly_charges  tenure  total_charges\n",
       "0             100.45    49.0        4941.80\n",
       "1              70.95    48.0        3629.20\n",
       "2              74.00    52.0        3877.65\n",
       "3              95.00    38.0        3591.25\n",
       "4             106.15    59.0        6256.20\n",
       "..               ...     ...            ...\n",
       "819            86.90    57.0        4939.25\n",
       "820            20.95    25.0         495.15\n",
       "821            96.75    53.0        5206.55\n",
       "822            50.80     9.0         463.60\n",
       "823            23.30    72.0        1623.15\n",
       "\n",
       "[824 rows x 3 columns]"
      ]
     },
     "execution_count": 22,
     "metadata": {},
     "output_type": "execute_result"
    }
   ],
   "source": [
    "inverse"
   ]
  },
  {
   "cell_type": "code",
   "execution_count": 23,
   "metadata": {},
   "outputs": [
    {
     "data": {
      "text/html": [
       "<div>\n",
       "<style scoped>\n",
       "    .dataframe tbody tr th:only-of-type {\n",
       "        vertical-align: middle;\n",
       "    }\n",
       "\n",
       "    .dataframe tbody tr th {\n",
       "        vertical-align: top;\n",
       "    }\n",
       "\n",
       "    .dataframe thead th {\n",
       "        text-align: right;\n",
       "    }\n",
       "</style>\n",
       "<table border=\"1\" class=\"dataframe\">\n",
       "  <thead>\n",
       "    <tr style=\"text-align: right;\">\n",
       "      <th></th>\n",
       "      <th>monthly_charges</th>\n",
       "      <th>tenure</th>\n",
       "      <th>total_charges</th>\n",
       "    </tr>\n",
       "  </thead>\n",
       "  <tbody>\n",
       "    <tr>\n",
       "      <th>1352</th>\n",
       "      <td>100.45</td>\n",
       "      <td>49</td>\n",
       "      <td>4941.80</td>\n",
       "    </tr>\n",
       "    <tr>\n",
       "      <th>239</th>\n",
       "      <td>70.95</td>\n",
       "      <td>48</td>\n",
       "      <td>3629.20</td>\n",
       "    </tr>\n",
       "    <tr>\n",
       "      <th>113</th>\n",
       "      <td>74.00</td>\n",
       "      <td>52</td>\n",
       "      <td>3877.65</td>\n",
       "    </tr>\n",
       "    <tr>\n",
       "      <th>584</th>\n",
       "      <td>95.00</td>\n",
       "      <td>38</td>\n",
       "      <td>3591.25</td>\n",
       "    </tr>\n",
       "    <tr>\n",
       "      <th>1463</th>\n",
       "      <td>106.15</td>\n",
       "      <td>59</td>\n",
       "      <td>6256.20</td>\n",
       "    </tr>\n",
       "    <tr>\n",
       "      <th>...</th>\n",
       "      <td>...</td>\n",
       "      <td>...</td>\n",
       "      <td>...</td>\n",
       "    </tr>\n",
       "    <tr>\n",
       "      <th>682</th>\n",
       "      <td>86.90</td>\n",
       "      <td>57</td>\n",
       "      <td>4939.25</td>\n",
       "    </tr>\n",
       "    <tr>\n",
       "      <th>504</th>\n",
       "      <td>20.95</td>\n",
       "      <td>25</td>\n",
       "      <td>495.15</td>\n",
       "    </tr>\n",
       "    <tr>\n",
       "      <th>764</th>\n",
       "      <td>96.75</td>\n",
       "      <td>53</td>\n",
       "      <td>5206.55</td>\n",
       "    </tr>\n",
       "    <tr>\n",
       "      <th>1230</th>\n",
       "      <td>50.80</td>\n",
       "      <td>9</td>\n",
       "      <td>463.60</td>\n",
       "    </tr>\n",
       "    <tr>\n",
       "      <th>371</th>\n",
       "      <td>23.30</td>\n",
       "      <td>72</td>\n",
       "      <td>1623.15</td>\n",
       "    </tr>\n",
       "  </tbody>\n",
       "</table>\n",
       "<p>824 rows × 3 columns</p>\n",
       "</div>"
      ],
      "text/plain": [
       "      monthly_charges  tenure  total_charges\n",
       "1352           100.45      49        4941.80\n",
       "239             70.95      48        3629.20\n",
       "113             74.00      52        3877.65\n",
       "584             95.00      38        3591.25\n",
       "1463           106.15      59        6256.20\n",
       "...               ...     ...            ...\n",
       "682             86.90      57        4939.25\n",
       "504             20.95      25         495.15\n",
       "764             96.75      53        5206.55\n",
       "1230            50.80       9         463.60\n",
       "371             23.30      72        1623.15\n",
       "\n",
       "[824 rows x 3 columns]"
      ]
     },
     "execution_count": 23,
     "metadata": {},
     "output_type": "execute_result"
    }
   ],
   "source": [
    "train"
   ]
  },
  {
   "cell_type": "code",
   "execution_count": 27,
   "metadata": {},
   "outputs": [],
   "source": [
    "# Read the documentation for sklearn's QuantileTransformer. \n",
    "# Use normal for the output_distribution and apply this scaler to your data. \n",
    "# Visualize the result of your data scaling.\n",
    "\n",
    "scaler_quant = sklearn.preprocessing.QuantileTransformer(n_quantiles=100, output_distribution='normal')"
   ]
  },
  {
   "cell_type": "code",
   "execution_count": 28,
   "metadata": {},
   "outputs": [],
   "source": [
    "scaler_quant.fit(train)\n",
    "train_quant = scaler_quant.transform(train)\n",
    "train_quant = pd.DataFrame(train_quant)\n",
    "train_quant.rename(columns = {0: 'monthly_charges', 1: 'tenure', 2: 'total_charges'}, inplace = True)"
   ]
  },
  {
   "cell_type": "code",
   "execution_count": 31,
   "metadata": {},
   "outputs": [
    {
     "data": {
      "text/plain": [
       "Text(0.5, 1.0, 'Quantile transformer')"
      ]
     },
     "execution_count": 31,
     "metadata": {},
     "output_type": "execute_result"
    },
    {
     "data": {
      "image/png": "[encoded data removed]",
      "text/plain": [
       "<Figure size 936x432 with 2 Axes>"
      ]
     },
     "metadata": {
      "needs_background": "light"
     },
     "output_type": "display_data"
    }
   ],
   "source": [
    "plt.figure(figsize=(13, 6))\n",
    "plt.subplot(121)\n",
    "plt.hist(train.monthly_charges, bins=25, ec='black')\n",
    "plt.title('Original')\n",
    "plt.subplot(122)\n",
    "plt.hist(train_quant.monthly_charges, bins=25, ec='black')\n",
    "plt.title('Quantile transformer')"
   ]
  },
  {
   "cell_type": "code",
   "execution_count": 30,
   "metadata": {},
   "outputs": [],
   "source": [
    "scaler_quant2 = sklearn.preprocessing.QuantileTransformer(n_quantiles=100)\n",
    "scaler_quant2.fit(train)\n",
    "train_quant2 = scaler_quant2.transform(train)\n",
    "train_quant2 = pd.DataFrame(train_quant2)\n",
    "train_quant2.rename(columns = {0: 'monthly_charges', 1: 'tenure', 2: 'total_charges'}, inplace = True)"
   ]
  },
  {
   "cell_type": "code",
   "execution_count": 33,
   "metadata": {},
   "outputs": [
    {
     "data": {
      "text/plain": [
       "Text(0.5, 1.0, 'Quantile w/o output')"
      ]
     },
     "execution_count": 33,
     "metadata": {},
     "output_type": "execute_result"
    },
    {
     "data": {
      "image/png": "[encoded data removed]",
      "text/plain": [
       "<Figure size 936x432 with 2 Axes>"
      ]
     },
     "metadata": {
      "needs_background": "light"
     },
     "output_type": "display_data"
    }
   ],
   "source": [
    "plt.figure(figsize=(13, 6))\n",
    "plt.subplot(121)\n",
    "plt.hist(train.monthly_charges, bins=25, ec='black')\n",
    "plt.title('Original')\n",
    "plt.subplot(122)\n",
    "plt.hist(train_quant2.monthly_charges, bins=25, ec='black')\n",
    "plt.title('Quantile w/o output')"
   ]
  },
  {
   "cell_type": "code",
   "execution_count": null,
   "metadata": {},
   "outputs": [],
   "source": []
  }
 ],
 "metadata": {
  "kernelspec": {
   "display_name": "Python 3",
   "language": "python",
   "name": "python3"
  },
  "language_info": {
   "codemirror_mode": {
    "name": "ipython",
    "version": 3
   },
   "file_extension": ".py",
   "mimetype": "text/x-python",
   "name": "python",
   "nbconvert_exporter": "python",
   "pygments_lexer": "ipython3",
   "version": "3.8.5"
  }
 },
 "nbformat": 4,
 "nbformat_minor": 4
}
